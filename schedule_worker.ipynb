{
 "cells": [
  {
   "cell_type": "markdown",
   "metadata": {},
   "source": [
    "### TASK\n",
    "\n",
    "Below is test data for schedule of worker in assembly line the second shift. \n",
    "The description contains  information in the format of \"Monday, Use STREAM1 materials to  perform  ACTION1 CATEGORY1 SUBCATEGORY1\"\n",
    "Create short a python function with below functionality.\n",
    "\n",
    "1) Read the file and create summary table to calculate total time spend By TaskType, Stream\n",
    "2) Also within each stream calculate what is time spend on each Action , Category and Subcategory.\n",
    "3) Store the result in a text file/csv.\n",
    "4) Use visualization package to view the result in various stacked column chart and bar chart/pie and store the image in jpeg."
   ]
  },
  {
   "cell_type": "markdown",
   "metadata": {},
   "source": [
    "#### 1) Read the file and create summary table to calculate total time spend By TaskType, Stream"
   ]
  },
  {
   "cell_type": "code",
   "execution_count": 304,
   "metadata": {},
   "outputs": [],
   "source": [
    "import pandas as pd\n",
    "df = pd.read_csv(\"test_data.csv\", sep='\\t')"
   ]
  },
  {
   "cell_type": "code",
   "execution_count": 306,
   "metadata": {},
   "outputs": [
    {
     "name": "stdout",
     "output_type": "stream",
     "text": [
      "<class 'pandas.core.frame.DataFrame'>\n",
      "RangeIndex: 24 entries, 0 to 23\n",
      "Data columns (total 8 columns):\n",
      "TaskType       24 non-null object\n",
      "Start Date     24 non-null object\n",
      "Start Time     24 non-null object\n",
      "End Date       24 non-null object\n",
      " End Time      24 non-null object\n",
      "Description    24 non-null object\n",
      "ID             24 non-null int64\n",
      "Unnamed: 7     0 non-null float64\n",
      "dtypes: float64(1), int64(1), object(6)\n",
      "memory usage: 1.6+ KB\n"
     ]
    }
   ],
   "source": [
    "df.info()\n"
   ]
  },
  {
   "cell_type": "code",
   "execution_count": 307,
   "metadata": {},
   "outputs": [
    {
     "name": "stdout",
     "output_type": "stream",
     "text": [
      "0     Monday, Use STREAM1 materials to  perform  ACTION1 CATEGORY1 SUBCATEGORY1\n",
      "1     Monday, Use STREAM1 materials to  perform  ACTION1 CATEGORY1 SUBCATEGORY2\n",
      "2     Monday, Use STREAM1 materials to  perform  ACTION1 CATEGORY1 SUBCATEGORY3\n",
      "3     Monday, Use STREAM1 materials to  perform  ACTION1 CATEGORY2 SUBCATEGORY1\n",
      "4     Monday, Use STREAM1 materials to  perform  ACTION1 CATEGORY2 SUBCATEGORY2\n",
      "5     Monday, Use STREAM1 materials to  perform  ACTION1 CATEGORY2 SUBCATEGORY3\n",
      "6     Monday, Use STREAM1 materials to  perform  ACTION2 CATEGORY1 SUBCATEGORY1\n",
      "7     Monday, Use STREAM1 materials to  perform  ACTION2 CATEGORY1 SUBCATEGORY2\n",
      "8     Monday, Use STREAM1 materials to  perform  ACTION2 CATEGORY1 SUBCATEGORY3\n",
      "9     Monday, Use STREAM1 materials to  perform  ACTION2 CATEGORY2 SUBCATEGORY1\n",
      "10    Monday, Use STREAM1 materials to  perform  ACTION2 CATEGORY2 SUBCATEGORY2\n",
      "11    Monday, Use STREAM1 materials to  perform  ACTION2 CATEGORY2 SUBCATEGORY3\n",
      "12    Monday, Use STREAM2 materials to  perform  ACTION1 CATEGORY1 SUBCATEGORY1\n",
      "13    Monday, Use STREAM2 materials to  perform  ACTION1 CATEGORY1 SUBCATEGORY2\n",
      "14    Monday, Use STREAM2 materials to  perform  ACTION1 CATEGORY1 SUBCATEGORY3\n",
      "15    Monday, Use STREAM2 materials to  perform  ACTION1 CATEGORY2 SUBCATEGORY1\n",
      "16    Monday, Use STREAM2 materials to  perform  ACTION1 CATEGORY2 SUBCATEGORY2\n",
      "17    Monday, Use STREAM2 materials to  perform  ACTION1 CATEGORY2 SUBCATEGORY3\n",
      "18    Monday, Use STREAM2 materials to  perform  ACTION2 CATEGORY1 SUBCATEGORY1\n",
      "19    Monday, Use STREAM2 materials to  perform  ACTION2 CATEGORY1 SUBCATEGORY2\n",
      "20    Monday, Use STREAM2 materials to  perform  ACTION2 CATEGORY1 SUBCATEGORY3\n",
      "21    Monday, Use STREAM2 materials to  perform  ACTION2 CATEGORY2 SUBCATEGORY1\n",
      "22    Monday, Use STREAM2 materials to  perform  ACTION2 CATEGORY2 SUBCATEGORY2\n",
      "23    Monday, Use STREAM2 materials to  perform  ACTION2 CATEGORY2 SUBCATEGORY3\n",
      "Name: Description, dtype: object\n"
     ]
    }
   ],
   "source": [
    "print(df[\"Description\"])"
   ]
  },
  {
   "cell_type": "code",
   "execution_count": 308,
   "metadata": {},
   "outputs": [
    {
     "data": {
      "text/html": [
       "<div>\n",
       "<style scoped>\n",
       "    .dataframe tbody tr th:only-of-type {\n",
       "        vertical-align: middle;\n",
       "    }\n",
       "\n",
       "    .dataframe tbody tr th {\n",
       "        vertical-align: top;\n",
       "    }\n",
       "\n",
       "    .dataframe thead th {\n",
       "        text-align: right;\n",
       "    }\n",
       "</style>\n",
       "<table border=\"1\" class=\"dataframe\">\n",
       "  <thead>\n",
       "    <tr style=\"text-align: right;\">\n",
       "      <th></th>\n",
       "      <th>TaskType</th>\n",
       "      <th>Start Date</th>\n",
       "      <th>Start Time</th>\n",
       "      <th>End Date</th>\n",
       "      <th>End Time</th>\n",
       "      <th>duration</th>\n",
       "      <th>Description</th>\n",
       "      <th>ID</th>\n",
       "      <th>Unnamed: 7</th>\n",
       "    </tr>\n",
       "  </thead>\n",
       "  <tbody>\n",
       "    <tr>\n",
       "      <th>0</th>\n",
       "      <td>TaskType1</td>\n",
       "      <td>Nov 05 2018</td>\n",
       "      <td>16:30</td>\n",
       "      <td>Nov 05 2018</td>\n",
       "      <td>16:40</td>\n",
       "      <td>None</td>\n",
       "      <td>Monday, Use STREAM1 materials to  perform  ACTION1 CATEGORY1 SUBCATEGORY1</td>\n",
       "      <td>4</td>\n",
       "      <td>NaN</td>\n",
       "    </tr>\n",
       "    <tr>\n",
       "      <th>1</th>\n",
       "      <td>TaskType1</td>\n",
       "      <td>Nov 06 2018</td>\n",
       "      <td>16:30</td>\n",
       "      <td>Nov 06 2018</td>\n",
       "      <td>21:40</td>\n",
       "      <td>None</td>\n",
       "      <td>Monday, Use STREAM1 materials to  perform  ACTION1 CATEGORY1 SUBCATEGORY2</td>\n",
       "      <td>5</td>\n",
       "      <td>NaN</td>\n",
       "    </tr>\n",
       "    <tr>\n",
       "      <th>2</th>\n",
       "      <td>TaskType1</td>\n",
       "      <td>Nov 07 2018</td>\n",
       "      <td>16:30</td>\n",
       "      <td>Nov 07 2018</td>\n",
       "      <td>19:40</td>\n",
       "      <td>None</td>\n",
       "      <td>Monday, Use STREAM1 materials to  perform  ACTION1 CATEGORY1 SUBCATEGORY3</td>\n",
       "      <td>6</td>\n",
       "      <td>NaN</td>\n",
       "    </tr>\n",
       "    <tr>\n",
       "      <th>3</th>\n",
       "      <td>TaskType1</td>\n",
       "      <td>Nov 08 2018</td>\n",
       "      <td>16:30</td>\n",
       "      <td>Nov 08 2018</td>\n",
       "      <td>16:40</td>\n",
       "      <td>None</td>\n",
       "      <td>Monday, Use STREAM1 materials to  perform  ACTION1 CATEGORY2 SUBCATEGORY1</td>\n",
       "      <td>7</td>\n",
       "      <td>NaN</td>\n",
       "    </tr>\n",
       "    <tr>\n",
       "      <th>4</th>\n",
       "      <td>TaskType1</td>\n",
       "      <td>Nov 09 2018</td>\n",
       "      <td>16:30</td>\n",
       "      <td>Nov 09 2018</td>\n",
       "      <td>21:40</td>\n",
       "      <td>None</td>\n",
       "      <td>Monday, Use STREAM1 materials to  perform  ACTION1 CATEGORY2 SUBCATEGORY2</td>\n",
       "      <td>8</td>\n",
       "      <td>NaN</td>\n",
       "    </tr>\n",
       "  </tbody>\n",
       "</table>\n",
       "</div>"
      ],
      "text/plain": [
       "    TaskType   Start Date Start Time     End Date  End Time duration  \\\n",
       "0  TaskType1  Nov 05 2018      16:30  Nov 05 2018     16:40     None   \n",
       "1  TaskType1  Nov 06 2018      16:30  Nov 06 2018     21:40     None   \n",
       "2  TaskType1  Nov 07 2018      16:30  Nov 07 2018     19:40     None   \n",
       "3  TaskType1  Nov 08 2018      16:30  Nov 08 2018     16:40     None   \n",
       "4  TaskType1  Nov 09 2018      16:30  Nov 09 2018     21:40     None   \n",
       "\n",
       "                                                                 Description  \\\n",
       "0  Monday, Use STREAM1 materials to  perform  ACTION1 CATEGORY1 SUBCATEGORY1   \n",
       "1  Monday, Use STREAM1 materials to  perform  ACTION1 CATEGORY1 SUBCATEGORY2   \n",
       "2  Monday, Use STREAM1 materials to  perform  ACTION1 CATEGORY1 SUBCATEGORY3   \n",
       "3  Monday, Use STREAM1 materials to  perform  ACTION1 CATEGORY2 SUBCATEGORY1   \n",
       "4  Monday, Use STREAM1 materials to  perform  ACTION1 CATEGORY2 SUBCATEGORY2   \n",
       "\n",
       "   ID  Unnamed: 7  \n",
       "0   4         NaN  \n",
       "1   5         NaN  \n",
       "2   6         NaN  \n",
       "3   7         NaN  \n",
       "4   8         NaN  "
      ]
     },
     "execution_count": 308,
     "metadata": {},
     "output_type": "execute_result"
    }
   ],
   "source": [
    "# Create new column to store the duration (end time - start time)\n",
    "df.insert(5, \"duration\", None)\n",
    "df.head()\n"
   ]
  },
  {
   "cell_type": "code",
   "execution_count": 309,
   "metadata": {},
   "outputs": [
    {
     "data": {
      "text/html": [
       "<div>\n",
       "<style scoped>\n",
       "    .dataframe tbody tr th:only-of-type {\n",
       "        vertical-align: middle;\n",
       "    }\n",
       "\n",
       "    .dataframe tbody tr th {\n",
       "        vertical-align: top;\n",
       "    }\n",
       "\n",
       "    .dataframe thead th {\n",
       "        text-align: right;\n",
       "    }\n",
       "</style>\n",
       "<table border=\"1\" class=\"dataframe\">\n",
       "  <thead>\n",
       "    <tr style=\"text-align: right;\">\n",
       "      <th></th>\n",
       "      <th>TaskType</th>\n",
       "      <th>Start Date</th>\n",
       "      <th>Start Time</th>\n",
       "      <th>End Date</th>\n",
       "      <th>End Time</th>\n",
       "      <th>duration</th>\n",
       "      <th>Description</th>\n",
       "      <th>ID</th>\n",
       "      <th>Unnamed: 7</th>\n",
       "    </tr>\n",
       "  </thead>\n",
       "  <tbody>\n",
       "    <tr>\n",
       "      <th>0</th>\n",
       "      <td>TaskType1</td>\n",
       "      <td>Nov 05 2018</td>\n",
       "      <td>16:30</td>\n",
       "      <td>Nov 05 2018</td>\n",
       "      <td>16:40</td>\n",
       "      <td>00:10:00</td>\n",
       "      <td>Monday, Use STREAM1 materials to  perform  ACTION1 CATEGORY1 SUBCATEGORY1</td>\n",
       "      <td>4</td>\n",
       "      <td>NaN</td>\n",
       "    </tr>\n",
       "    <tr>\n",
       "      <th>1</th>\n",
       "      <td>TaskType1</td>\n",
       "      <td>Nov 06 2018</td>\n",
       "      <td>16:30</td>\n",
       "      <td>Nov 06 2018</td>\n",
       "      <td>21:40</td>\n",
       "      <td>05:10:00</td>\n",
       "      <td>Monday, Use STREAM1 materials to  perform  ACTION1 CATEGORY1 SUBCATEGORY2</td>\n",
       "      <td>5</td>\n",
       "      <td>NaN</td>\n",
       "    </tr>\n",
       "    <tr>\n",
       "      <th>2</th>\n",
       "      <td>TaskType1</td>\n",
       "      <td>Nov 07 2018</td>\n",
       "      <td>16:30</td>\n",
       "      <td>Nov 07 2018</td>\n",
       "      <td>19:40</td>\n",
       "      <td>03:10:00</td>\n",
       "      <td>Monday, Use STREAM1 materials to  perform  ACTION1 CATEGORY1 SUBCATEGORY3</td>\n",
       "      <td>6</td>\n",
       "      <td>NaN</td>\n",
       "    </tr>\n",
       "    <tr>\n",
       "      <th>3</th>\n",
       "      <td>TaskType1</td>\n",
       "      <td>Nov 08 2018</td>\n",
       "      <td>16:30</td>\n",
       "      <td>Nov 08 2018</td>\n",
       "      <td>16:40</td>\n",
       "      <td>00:10:00</td>\n",
       "      <td>Monday, Use STREAM1 materials to  perform  ACTION1 CATEGORY2 SUBCATEGORY1</td>\n",
       "      <td>7</td>\n",
       "      <td>NaN</td>\n",
       "    </tr>\n",
       "    <tr>\n",
       "      <th>4</th>\n",
       "      <td>TaskType1</td>\n",
       "      <td>Nov 09 2018</td>\n",
       "      <td>16:30</td>\n",
       "      <td>Nov 09 2018</td>\n",
       "      <td>21:40</td>\n",
       "      <td>05:10:00</td>\n",
       "      <td>Monday, Use STREAM1 materials to  perform  ACTION1 CATEGORY2 SUBCATEGORY2</td>\n",
       "      <td>8</td>\n",
       "      <td>NaN</td>\n",
       "    </tr>\n",
       "    <tr>\n",
       "      <th>5</th>\n",
       "      <td>TaskType1</td>\n",
       "      <td>Nov 10 2018</td>\n",
       "      <td>16:30</td>\n",
       "      <td>Nov 10 2018</td>\n",
       "      <td>19:40</td>\n",
       "      <td>03:10:00</td>\n",
       "      <td>Monday, Use STREAM1 materials to  perform  ACTION1 CATEGORY2 SUBCATEGORY3</td>\n",
       "      <td>9</td>\n",
       "      <td>NaN</td>\n",
       "    </tr>\n",
       "    <tr>\n",
       "      <th>6</th>\n",
       "      <td>TaskType1</td>\n",
       "      <td>Nov 05 2018</td>\n",
       "      <td>20:30</td>\n",
       "      <td>Nov 05 2018</td>\n",
       "      <td>22:40</td>\n",
       "      <td>02:10:00</td>\n",
       "      <td>Monday, Use STREAM1 materials to  perform  ACTION2 CATEGORY1 SUBCATEGORY1</td>\n",
       "      <td>10</td>\n",
       "      <td>NaN</td>\n",
       "    </tr>\n",
       "    <tr>\n",
       "      <th>7</th>\n",
       "      <td>TaskType1</td>\n",
       "      <td>Nov 06 2018</td>\n",
       "      <td>20:30</td>\n",
       "      <td>Nov 06 2018</td>\n",
       "      <td>22:40</td>\n",
       "      <td>02:10:00</td>\n",
       "      <td>Monday, Use STREAM1 materials to  perform  ACTION2 CATEGORY1 SUBCATEGORY2</td>\n",
       "      <td>11</td>\n",
       "      <td>NaN</td>\n",
       "    </tr>\n",
       "    <tr>\n",
       "      <th>8</th>\n",
       "      <td>TaskType1</td>\n",
       "      <td>Nov 07 2018</td>\n",
       "      <td>20:30</td>\n",
       "      <td>Nov 07 2018</td>\n",
       "      <td>22:40</td>\n",
       "      <td>02:10:00</td>\n",
       "      <td>Monday, Use STREAM1 materials to  perform  ACTION2 CATEGORY1 SUBCATEGORY3</td>\n",
       "      <td>12</td>\n",
       "      <td>NaN</td>\n",
       "    </tr>\n",
       "    <tr>\n",
       "      <th>9</th>\n",
       "      <td>TaskType1</td>\n",
       "      <td>Nov 08 2018</td>\n",
       "      <td>20:30</td>\n",
       "      <td>Nov 08 2018</td>\n",
       "      <td>22:40</td>\n",
       "      <td>02:10:00</td>\n",
       "      <td>Monday, Use STREAM1 materials to  perform  ACTION2 CATEGORY2 SUBCATEGORY1</td>\n",
       "      <td>13</td>\n",
       "      <td>NaN</td>\n",
       "    </tr>\n",
       "    <tr>\n",
       "      <th>10</th>\n",
       "      <td>TaskType1</td>\n",
       "      <td>Nov 09 2018</td>\n",
       "      <td>20:30</td>\n",
       "      <td>Nov 09 2018</td>\n",
       "      <td>22:40</td>\n",
       "      <td>02:10:00</td>\n",
       "      <td>Monday, Use STREAM1 materials to  perform  ACTION2 CATEGORY2 SUBCATEGORY2</td>\n",
       "      <td>14</td>\n",
       "      <td>NaN</td>\n",
       "    </tr>\n",
       "    <tr>\n",
       "      <th>11</th>\n",
       "      <td>TaskType1</td>\n",
       "      <td>Nov 10 2018</td>\n",
       "      <td>20:30</td>\n",
       "      <td>Nov 10 2018</td>\n",
       "      <td>22:40</td>\n",
       "      <td>02:10:00</td>\n",
       "      <td>Monday, Use STREAM1 materials to  perform  ACTION2 CATEGORY2 SUBCATEGORY3</td>\n",
       "      <td>15</td>\n",
       "      <td>NaN</td>\n",
       "    </tr>\n",
       "    <tr>\n",
       "      <th>12</th>\n",
       "      <td>TaskType1</td>\n",
       "      <td>Nov 05 2018</td>\n",
       "      <td>16:30</td>\n",
       "      <td>Nov 05 2018</td>\n",
       "      <td>16:40</td>\n",
       "      <td>00:10:00</td>\n",
       "      <td>Monday, Use STREAM2 materials to  perform  ACTION1 CATEGORY1 SUBCATEGORY1</td>\n",
       "      <td>16</td>\n",
       "      <td>NaN</td>\n",
       "    </tr>\n",
       "    <tr>\n",
       "      <th>13</th>\n",
       "      <td>TaskType1</td>\n",
       "      <td>Nov 06 2018</td>\n",
       "      <td>16:30</td>\n",
       "      <td>Nov 06 2018</td>\n",
       "      <td>21:40</td>\n",
       "      <td>05:10:00</td>\n",
       "      <td>Monday, Use STREAM2 materials to  perform  ACTION1 CATEGORY1 SUBCATEGORY2</td>\n",
       "      <td>17</td>\n",
       "      <td>NaN</td>\n",
       "    </tr>\n",
       "    <tr>\n",
       "      <th>14</th>\n",
       "      <td>TaskType1</td>\n",
       "      <td>Nov 07 2018</td>\n",
       "      <td>16:30</td>\n",
       "      <td>Nov 07 2018</td>\n",
       "      <td>19:40</td>\n",
       "      <td>03:10:00</td>\n",
       "      <td>Monday, Use STREAM2 materials to  perform  ACTION1 CATEGORY1 SUBCATEGORY3</td>\n",
       "      <td>18</td>\n",
       "      <td>NaN</td>\n",
       "    </tr>\n",
       "    <tr>\n",
       "      <th>15</th>\n",
       "      <td>TaskType1</td>\n",
       "      <td>Nov 08 2018</td>\n",
       "      <td>16:30</td>\n",
       "      <td>Nov 08 2018</td>\n",
       "      <td>16:40</td>\n",
       "      <td>00:10:00</td>\n",
       "      <td>Monday, Use STREAM2 materials to  perform  ACTION1 CATEGORY2 SUBCATEGORY1</td>\n",
       "      <td>19</td>\n",
       "      <td>NaN</td>\n",
       "    </tr>\n",
       "    <tr>\n",
       "      <th>16</th>\n",
       "      <td>TaskType1</td>\n",
       "      <td>Nov 09 2018</td>\n",
       "      <td>16:30</td>\n",
       "      <td>Nov 09 2018</td>\n",
       "      <td>21:40</td>\n",
       "      <td>05:10:00</td>\n",
       "      <td>Monday, Use STREAM2 materials to  perform  ACTION1 CATEGORY2 SUBCATEGORY2</td>\n",
       "      <td>20</td>\n",
       "      <td>NaN</td>\n",
       "    </tr>\n",
       "    <tr>\n",
       "      <th>17</th>\n",
       "      <td>TaskType1</td>\n",
       "      <td>Nov 10 2018</td>\n",
       "      <td>16:30</td>\n",
       "      <td>Nov 10 2018</td>\n",
       "      <td>19:40</td>\n",
       "      <td>03:10:00</td>\n",
       "      <td>Monday, Use STREAM2 materials to  perform  ACTION1 CATEGORY2 SUBCATEGORY3</td>\n",
       "      <td>21</td>\n",
       "      <td>NaN</td>\n",
       "    </tr>\n",
       "    <tr>\n",
       "      <th>18</th>\n",
       "      <td>TaskType1</td>\n",
       "      <td>Nov 05 2018</td>\n",
       "      <td>20:30</td>\n",
       "      <td>Nov 05 2018</td>\n",
       "      <td>22:40</td>\n",
       "      <td>02:10:00</td>\n",
       "      <td>Monday, Use STREAM2 materials to  perform  ACTION2 CATEGORY1 SUBCATEGORY1</td>\n",
       "      <td>22</td>\n",
       "      <td>NaN</td>\n",
       "    </tr>\n",
       "    <tr>\n",
       "      <th>19</th>\n",
       "      <td>TaskType1</td>\n",
       "      <td>Nov 06 2018</td>\n",
       "      <td>20:30</td>\n",
       "      <td>Nov 06 2018</td>\n",
       "      <td>22:40</td>\n",
       "      <td>02:10:00</td>\n",
       "      <td>Monday, Use STREAM2 materials to  perform  ACTION2 CATEGORY1 SUBCATEGORY2</td>\n",
       "      <td>23</td>\n",
       "      <td>NaN</td>\n",
       "    </tr>\n",
       "    <tr>\n",
       "      <th>20</th>\n",
       "      <td>TaskType1</td>\n",
       "      <td>Nov 07 2018</td>\n",
       "      <td>20:30</td>\n",
       "      <td>Nov 07 2018</td>\n",
       "      <td>22:40</td>\n",
       "      <td>02:10:00</td>\n",
       "      <td>Monday, Use STREAM2 materials to  perform  ACTION2 CATEGORY1 SUBCATEGORY3</td>\n",
       "      <td>24</td>\n",
       "      <td>NaN</td>\n",
       "    </tr>\n",
       "    <tr>\n",
       "      <th>21</th>\n",
       "      <td>TaskType1</td>\n",
       "      <td>Nov 08 2018</td>\n",
       "      <td>20:30</td>\n",
       "      <td>Nov 08 2018</td>\n",
       "      <td>22:40</td>\n",
       "      <td>02:10:00</td>\n",
       "      <td>Monday, Use STREAM2 materials to  perform  ACTION2 CATEGORY2 SUBCATEGORY1</td>\n",
       "      <td>25</td>\n",
       "      <td>NaN</td>\n",
       "    </tr>\n",
       "    <tr>\n",
       "      <th>22</th>\n",
       "      <td>TaskType1</td>\n",
       "      <td>Nov 09 2018</td>\n",
       "      <td>20:30</td>\n",
       "      <td>Nov 09 2018</td>\n",
       "      <td>22:40</td>\n",
       "      <td>02:10:00</td>\n",
       "      <td>Monday, Use STREAM2 materials to  perform  ACTION2 CATEGORY2 SUBCATEGORY2</td>\n",
       "      <td>26</td>\n",
       "      <td>NaN</td>\n",
       "    </tr>\n",
       "    <tr>\n",
       "      <th>23</th>\n",
       "      <td>TaskType1</td>\n",
       "      <td>Nov 10 2018</td>\n",
       "      <td>20:30</td>\n",
       "      <td>Nov 10 2018</td>\n",
       "      <td>22:40</td>\n",
       "      <td>02:10:00</td>\n",
       "      <td>Monday, Use STREAM2 materials to  perform  ACTION2 CATEGORY2 SUBCATEGORY3</td>\n",
       "      <td>27</td>\n",
       "      <td>NaN</td>\n",
       "    </tr>\n",
       "  </tbody>\n",
       "</table>\n",
       "</div>"
      ],
      "text/plain": [
       "     TaskType   Start Date Start Time     End Date  End Time duration  \\\n",
       "0   TaskType1  Nov 05 2018      16:30  Nov 05 2018     16:40 00:10:00   \n",
       "1   TaskType1  Nov 06 2018      16:30  Nov 06 2018     21:40 05:10:00   \n",
       "2   TaskType1  Nov 07 2018      16:30  Nov 07 2018     19:40 03:10:00   \n",
       "3   TaskType1  Nov 08 2018      16:30  Nov 08 2018     16:40 00:10:00   \n",
       "4   TaskType1  Nov 09 2018      16:30  Nov 09 2018     21:40 05:10:00   \n",
       "5   TaskType1  Nov 10 2018      16:30  Nov 10 2018     19:40 03:10:00   \n",
       "6   TaskType1  Nov 05 2018      20:30  Nov 05 2018     22:40 02:10:00   \n",
       "7   TaskType1  Nov 06 2018      20:30  Nov 06 2018     22:40 02:10:00   \n",
       "8   TaskType1  Nov 07 2018      20:30  Nov 07 2018     22:40 02:10:00   \n",
       "9   TaskType1  Nov 08 2018      20:30  Nov 08 2018     22:40 02:10:00   \n",
       "10  TaskType1  Nov 09 2018      20:30  Nov 09 2018     22:40 02:10:00   \n",
       "11  TaskType1  Nov 10 2018      20:30  Nov 10 2018     22:40 02:10:00   \n",
       "12  TaskType1  Nov 05 2018      16:30  Nov 05 2018     16:40 00:10:00   \n",
       "13  TaskType1  Nov 06 2018      16:30  Nov 06 2018     21:40 05:10:00   \n",
       "14  TaskType1  Nov 07 2018      16:30  Nov 07 2018     19:40 03:10:00   \n",
       "15  TaskType1  Nov 08 2018      16:30  Nov 08 2018     16:40 00:10:00   \n",
       "16  TaskType1  Nov 09 2018      16:30  Nov 09 2018     21:40 05:10:00   \n",
       "17  TaskType1  Nov 10 2018      16:30  Nov 10 2018     19:40 03:10:00   \n",
       "18  TaskType1  Nov 05 2018      20:30  Nov 05 2018     22:40 02:10:00   \n",
       "19  TaskType1  Nov 06 2018      20:30  Nov 06 2018     22:40 02:10:00   \n",
       "20  TaskType1  Nov 07 2018      20:30  Nov 07 2018     22:40 02:10:00   \n",
       "21  TaskType1  Nov 08 2018      20:30  Nov 08 2018     22:40 02:10:00   \n",
       "22  TaskType1  Nov 09 2018      20:30  Nov 09 2018     22:40 02:10:00   \n",
       "23  TaskType1  Nov 10 2018      20:30  Nov 10 2018     22:40 02:10:00   \n",
       "\n",
       "                                                                  Description  \\\n",
       "0   Monday, Use STREAM1 materials to  perform  ACTION1 CATEGORY1 SUBCATEGORY1   \n",
       "1   Monday, Use STREAM1 materials to  perform  ACTION1 CATEGORY1 SUBCATEGORY2   \n",
       "2   Monday, Use STREAM1 materials to  perform  ACTION1 CATEGORY1 SUBCATEGORY3   \n",
       "3   Monday, Use STREAM1 materials to  perform  ACTION1 CATEGORY2 SUBCATEGORY1   \n",
       "4   Monday, Use STREAM1 materials to  perform  ACTION1 CATEGORY2 SUBCATEGORY2   \n",
       "5   Monday, Use STREAM1 materials to  perform  ACTION1 CATEGORY2 SUBCATEGORY3   \n",
       "6   Monday, Use STREAM1 materials to  perform  ACTION2 CATEGORY1 SUBCATEGORY1   \n",
       "7   Monday, Use STREAM1 materials to  perform  ACTION2 CATEGORY1 SUBCATEGORY2   \n",
       "8   Monday, Use STREAM1 materials to  perform  ACTION2 CATEGORY1 SUBCATEGORY3   \n",
       "9   Monday, Use STREAM1 materials to  perform  ACTION2 CATEGORY2 SUBCATEGORY1   \n",
       "10  Monday, Use STREAM1 materials to  perform  ACTION2 CATEGORY2 SUBCATEGORY2   \n",
       "11  Monday, Use STREAM1 materials to  perform  ACTION2 CATEGORY2 SUBCATEGORY3   \n",
       "12  Monday, Use STREAM2 materials to  perform  ACTION1 CATEGORY1 SUBCATEGORY1   \n",
       "13  Monday, Use STREAM2 materials to  perform  ACTION1 CATEGORY1 SUBCATEGORY2   \n",
       "14  Monday, Use STREAM2 materials to  perform  ACTION1 CATEGORY1 SUBCATEGORY3   \n",
       "15  Monday, Use STREAM2 materials to  perform  ACTION1 CATEGORY2 SUBCATEGORY1   \n",
       "16  Monday, Use STREAM2 materials to  perform  ACTION1 CATEGORY2 SUBCATEGORY2   \n",
       "17  Monday, Use STREAM2 materials to  perform  ACTION1 CATEGORY2 SUBCATEGORY3   \n",
       "18  Monday, Use STREAM2 materials to  perform  ACTION2 CATEGORY1 SUBCATEGORY1   \n",
       "19  Monday, Use STREAM2 materials to  perform  ACTION2 CATEGORY1 SUBCATEGORY2   \n",
       "20  Monday, Use STREAM2 materials to  perform  ACTION2 CATEGORY1 SUBCATEGORY3   \n",
       "21  Monday, Use STREAM2 materials to  perform  ACTION2 CATEGORY2 SUBCATEGORY1   \n",
       "22  Monday, Use STREAM2 materials to  perform  ACTION2 CATEGORY2 SUBCATEGORY2   \n",
       "23  Monday, Use STREAM2 materials to  perform  ACTION2 CATEGORY2 SUBCATEGORY3   \n",
       "\n",
       "    ID  Unnamed: 7  \n",
       "0    4         NaN  \n",
       "1    5         NaN  \n",
       "2    6         NaN  \n",
       "3    7         NaN  \n",
       "4    8         NaN  \n",
       "5    9         NaN  \n",
       "6   10         NaN  \n",
       "7   11         NaN  \n",
       "8   12         NaN  \n",
       "9   13         NaN  \n",
       "10  14         NaN  \n",
       "11  15         NaN  \n",
       "12  16         NaN  \n",
       "13  17         NaN  \n",
       "14  18         NaN  \n",
       "15  19         NaN  \n",
       "16  20         NaN  \n",
       "17  21         NaN  \n",
       "18  22         NaN  \n",
       "19  23         NaN  \n",
       "20  24         NaN  \n",
       "21  25         NaN  \n",
       "22  26         NaN  \n",
       "23  27         NaN  "
      ]
     },
     "execution_count": 309,
     "metadata": {},
     "output_type": "execute_result"
    }
   ],
   "source": [
    "#Time taken by each tasktype\n",
    "df[\"duration\"] = pd.to_datetime(df[\" End Time\"]) - pd.to_datetime(df[\"Start Time\"])\n",
    "df\n"
   ]
  },
  {
   "cell_type": "code",
   "execution_count": 310,
   "metadata": {},
   "outputs": [
    {
     "name": "stdout",
     "output_type": "stream",
     "text": [
      "Total time spent by TaskType1 =  2 days 12:00:00\n"
     ]
    }
   ],
   "source": [
    "# Total time spend by TaskType1\n",
    "# To start storing the summary data, create an empty data dictionary\n",
    "data_dict = {}\n",
    "\n",
    "t1_df = df.loc[df['TaskType'].isin([\"TaskType1\"])]\n",
    "time_t1 = t1_df.duration.sum()\n",
    "#fetch the time in hours\n",
    "data_dict[\"time_t1\"] = [time_t1.value*(10**-9)/3600]\n",
    "print(\"Total time spent by TaskType1 = \",time_t1)"
   ]
  },
  {
   "cell_type": "code",
   "execution_count": 311,
   "metadata": {},
   "outputs": [
    {
     "name": "stdout",
     "output_type": "stream",
     "text": [
      "Total time spent by TaskType1 stream1 =  1 days 06:00:00\n"
     ]
    }
   ],
   "source": [
    "# Total Time taken by task1 stream1\n",
    "s1_df = t1_df[t1_df.Description.str.match('.*STREAM1.*')]\n",
    "time_t1_s1 = s1_df.duration.sum()\n",
    "data_dict[\"time_t1_s1\"] = [time_t1_s1.value*(10**-9)/3600]\n",
    "print(\"Total time spent by TaskType1 stream1 = \",time_t1_s1)"
   ]
  },
  {
   "cell_type": "code",
   "execution_count": 312,
   "metadata": {},
   "outputs": [
    {
     "name": "stdout",
     "output_type": "stream",
     "text": [
      "Total time spent by TaskType1 stream2 =  1 days 06:00:00\n"
     ]
    }
   ],
   "source": [
    "# Total Time taken by task1 stream2\n",
    "s2_df = t1_df[t1_df.Description.str.match('.*STREAM2.*')]\n",
    "time_t1_s2 = s2_df.duration.sum()\n",
    "\n",
    "data_dict[\"time_t1_s2\"] = [time_t1_s2.value*(10**-9)/3600]\n",
    "print(\"Total time spent by TaskType1 stream2 = \",time_t1_s2)\n"
   ]
  },
  {
   "cell_type": "markdown",
   "metadata": {},
   "source": [
    "#### 2) Also within each stream calculate what is time spend on each Action , Category and Subcategory.       "
   ]
  },
  {
   "cell_type": "markdown",
   "metadata": {},
   "source": [
    "##### stream1 Data"
   ]
  },
  {
   "cell_type": "code",
   "execution_count": 313,
   "metadata": {},
   "outputs": [
    {
     "name": "stdout",
     "output_type": "stream",
     "text": [
      "Total time spent by TaskType1 stream1 action1 =  0 days 17:00:00\n",
      "Total time spent by TaskType1 stream1 action2 =  0 days 13:00:00\n"
     ]
    },
    {
     "name": "stderr",
     "output_type": "stream",
     "text": [
      "/Users/swetha/anaconda2/envs/python35/lib/python3.5/site-packages/ipykernel_launcher.py:2: UserWarning: Boolean Series key will be reindexed to match DataFrame index.\n",
      "  \n",
      "/Users/swetha/anaconda2/envs/python35/lib/python3.5/site-packages/ipykernel_launcher.py:3: UserWarning: Boolean Series key will be reindexed to match DataFrame index.\n",
      "  This is separate from the ipykernel package so we can avoid doing imports until\n"
     ]
    }
   ],
   "source": [
    "#time spent on each action1 and action2 in stream1\n",
    "s1_a1_df = s1_df[t1_df.Description.str.match('.*ACTION1.*')]\n",
    "s1_a2_df = s1_df[t1_df.Description.str.match('.*ACTION2.*')]\n",
    "\n",
    "time_t1_s1_a1 = s1_a1_df.duration.sum()\n",
    "time_t1_s1_a2 = s1_a2_df.duration.sum()\n",
    "\n",
    "data_dict[\"time_t1_s1_a1\"] = [time_t1_s1_a1.value*(10**-9)/3600]\n",
    "data_dict[\"time_t1_s1_a2\"] = [time_t1_s1_a2.value*(10**-9)/3600]\n",
    "\n",
    "print(\"Total time spent by TaskType1 stream1 action1 = \",time_t1_s1_a1)\n",
    "print(\"Total time spent by TaskType1 stream1 action2 = \",time_t1_s1_a2)"
   ]
  },
  {
   "cell_type": "code",
   "execution_count": 314,
   "metadata": {},
   "outputs": [
    {
     "name": "stdout",
     "output_type": "stream",
     "text": [
      "Total time spent by TaskType1 stream1 category1 =  0 days 17:20:00\n",
      "Total time spent by TaskType1 stream1 category2 =  0 days 22:20:00\n"
     ]
    },
    {
     "name": "stderr",
     "output_type": "stream",
     "text": [
      "/Users/swetha/anaconda2/envs/python35/lib/python3.5/site-packages/ipykernel_launcher.py:2: UserWarning: Boolean Series key will be reindexed to match DataFrame index.\n",
      "  \n",
      "/Users/swetha/anaconda2/envs/python35/lib/python3.5/site-packages/ipykernel_launcher.py:3: UserWarning: Boolean Series key will be reindexed to match DataFrame index.\n",
      "  This is separate from the ipykernel package so we can avoid doing imports until\n"
     ]
    }
   ],
   "source": [
    "#time spent on each category1 and category2 in stream1\n",
    "s1_c1_df = s1_df[t1_df.Description.str.match('.*CATEGORY1.*')]\n",
    "s1_c2_df = s1_df[t1_df.Description.str.match('.*CATEGORY2.*')]\n",
    "\n",
    "time_t1_s1_c1 = s1_c1_df.duration.sum()\n",
    "time_t1_s1_c2 = s1_c2_df.duration.sum()\n",
    "\n",
    "data_dict[\"time_t1_s1_c1\"] = [time_t1_s1_c1.value*(10**-9)/3600]\n",
    "data_dict[\"time_t1_s1_c2\"] = [time_t1_s1_c2.value*(10**-9)/3600]\n",
    "\n",
    "print(\"Total time spent by TaskType1 stream1 category1 = \",time_t1_s1_c1)\n",
    "print(\"Total time spent by TaskType1 stream1 category2 = \",time_t1_s1_c2)"
   ]
  },
  {
   "cell_type": "code",
   "execution_count": 315,
   "metadata": {},
   "outputs": [
    {
     "name": "stdout",
     "output_type": "stream",
     "text": [
      "Total time spent by TaskType1 stream1 subcategory1 =  0 days 04:40:00\n",
      "Total time spent by TaskType1 stream1 subcategory2 =  0 days 14:40:00\n",
      "Total time spent by TaskType1 stream1 subcategory3 =  0 days 10:40:00\n"
     ]
    },
    {
     "name": "stderr",
     "output_type": "stream",
     "text": [
      "/Users/swetha/anaconda2/envs/python35/lib/python3.5/site-packages/ipykernel_launcher.py:2: UserWarning: Boolean Series key will be reindexed to match DataFrame index.\n",
      "  \n",
      "/Users/swetha/anaconda2/envs/python35/lib/python3.5/site-packages/ipykernel_launcher.py:3: UserWarning: Boolean Series key will be reindexed to match DataFrame index.\n",
      "  This is separate from the ipykernel package so we can avoid doing imports until\n",
      "/Users/swetha/anaconda2/envs/python35/lib/python3.5/site-packages/ipykernel_launcher.py:4: UserWarning: Boolean Series key will be reindexed to match DataFrame index.\n",
      "  after removing the cwd from sys.path.\n"
     ]
    }
   ],
   "source": [
    "#time spent on each subcategory1 subcategory2 and subcategory3 in stream1\n",
    "s1_sb1_df = s1_df[t1_df.Description.str.match('.*SUBCATEGORY1.*')]\n",
    "s1_sb2_df = s1_df[t1_df.Description.str.match('.*SUBCATEGORY2.*')]\n",
    "s1_sb3_df = s1_df[t1_df.Description.str.match('.*SUBCATEGORY3.*')]\n",
    "\n",
    "time_t1_s1_sb1 = s1_sb1_df.duration.sum()\n",
    "time_t1_s1_sb2 = s1_sb2_df.duration.sum()\n",
    "time_t1_s1_sb3 = s1_sb3_df.duration.sum()\n",
    "\n",
    "data_dict[\"time_t1_s1_sb1\"] = [time_t1_s1_sb1.value*(10**-9)/3600]\n",
    "data_dict[\"time_t1_s1_sb2\"] = [time_t1_s1_sb2.value*(10**-9)/3600]\n",
    "data_dict[\"time_t1_s1_sb3\"] = [time_t1_s1_sb3.value*(10**-9)/3600]\n",
    "\n",
    "print(\"Total time spent by TaskType1 stream1 subcategory1 = \",time_t1_s1_sb1)\n",
    "print(\"Total time spent by TaskType1 stream1 subcategory2 = \",time_t1_s1_sb2)\n",
    "print(\"Total time spent by TaskType1 stream1 subcategory3 = \",time_t1_s1_sb3)\n"
   ]
  },
  {
   "cell_type": "markdown",
   "metadata": {},
   "source": [
    "##### stream2 Data"
   ]
  },
  {
   "cell_type": "code",
   "execution_count": 316,
   "metadata": {},
   "outputs": [
    {
     "name": "stdout",
     "output_type": "stream",
     "text": [
      "Total time spent by TaskType1 stream2 action1 =  0 days 17:00:00\n",
      "Total time spent by TaskType1 stream2 action2 =  0 days 13:00:00\n"
     ]
    },
    {
     "name": "stderr",
     "output_type": "stream",
     "text": [
      "/Users/swetha/anaconda2/envs/python35/lib/python3.5/site-packages/ipykernel_launcher.py:2: UserWarning: Boolean Series key will be reindexed to match DataFrame index.\n",
      "  \n",
      "/Users/swetha/anaconda2/envs/python35/lib/python3.5/site-packages/ipykernel_launcher.py:3: UserWarning: Boolean Series key will be reindexed to match DataFrame index.\n",
      "  This is separate from the ipykernel package so we can avoid doing imports until\n"
     ]
    }
   ],
   "source": [
    "#time spent on each action1 and action2 in stream2\n",
    "s2_a1_df = s2_df[t1_df.Description.str.match('.*ACTION1.*')]\n",
    "s2_a2_df = s2_df[t1_df.Description.str.match('.*ACTION2.*')]\n",
    "\n",
    "time_t1_s2_a1 = s2_a1_df.duration.sum()\n",
    "time_t1_s2_a2 = s2_a2_df.duration.sum()\n",
    "\n",
    "data_dict[\"time_t1_s2_a1\"] = [time_t1_s2_a1.value*(10**-9)/3600]\n",
    "data_dict[\"time_t1_s2_a2\"] = [time_t1_s2_a2.value*(10**-9)/3600]\n",
    "\n",
    "print(\"Total time spent by TaskType1 stream2 action1 = \",time_t1_s2_a1)\n",
    "print(\"Total time spent by TaskType1 stream2 action2 = \",time_t1_s2_a2)"
   ]
  },
  {
   "cell_type": "code",
   "execution_count": 317,
   "metadata": {},
   "outputs": [
    {
     "name": "stdout",
     "output_type": "stream",
     "text": [
      "Total time spent by TaskType1 stream2 category1 =  0 days 17:20:00\n",
      "Total time spent by TaskType1 stream2 category2 =  0 days 22:20:00\n"
     ]
    },
    {
     "name": "stderr",
     "output_type": "stream",
     "text": [
      "/Users/swetha/anaconda2/envs/python35/lib/python3.5/site-packages/ipykernel_launcher.py:2: UserWarning: Boolean Series key will be reindexed to match DataFrame index.\n",
      "  \n",
      "/Users/swetha/anaconda2/envs/python35/lib/python3.5/site-packages/ipykernel_launcher.py:3: UserWarning: Boolean Series key will be reindexed to match DataFrame index.\n",
      "  This is separate from the ipykernel package so we can avoid doing imports until\n"
     ]
    }
   ],
   "source": [
    "#time spent on each category1 and category2 in stream2\n",
    "s2_c1_df = s2_df[t1_df.Description.str.match('.*CATEGORY1.*')]\n",
    "s2_c2_df = s2_df[t1_df.Description.str.match('.*CATEGORY2.*')]\n",
    "\n",
    "time_t1_s2_c1 = s2_c1_df.duration.sum()\n",
    "time_t1_s2_c2 = s2_c2_df.duration.sum()\n",
    "\n",
    "data_dict[\"time_t1_s2_c1\"] = [time_t1_s2_c1.value*(10**-9)/3600]\n",
    "data_dict[\"time_t1_s2_c2\"] = [time_t1_s2_c2.value*(10**-9)/3600]\n",
    "\n",
    "print(\"Total time spent by TaskType1 stream2 category1 = \",time_t1_s2_c1)\n",
    "print(\"Total time spent by TaskType1 stream2 category2 = \",time_t1_s2_c2)"
   ]
  },
  {
   "cell_type": "code",
   "execution_count": 318,
   "metadata": {},
   "outputs": [
    {
     "name": "stdout",
     "output_type": "stream",
     "text": [
      "Total time spent by TaskType1 stream2 subcategory1 =  0 days 04:40:00\n",
      "Total time spent by TaskType1 stream2 subcategory2 =  0 days 14:40:00\n",
      "Total time spent by TaskType1 stream2 subcategory3 =  0 days 10:40:00\n"
     ]
    },
    {
     "name": "stderr",
     "output_type": "stream",
     "text": [
      "/Users/swetha/anaconda2/envs/python35/lib/python3.5/site-packages/ipykernel_launcher.py:2: UserWarning: Boolean Series key will be reindexed to match DataFrame index.\n",
      "  \n",
      "/Users/swetha/anaconda2/envs/python35/lib/python3.5/site-packages/ipykernel_launcher.py:3: UserWarning: Boolean Series key will be reindexed to match DataFrame index.\n",
      "  This is separate from the ipykernel package so we can avoid doing imports until\n",
      "/Users/swetha/anaconda2/envs/python35/lib/python3.5/site-packages/ipykernel_launcher.py:4: UserWarning: Boolean Series key will be reindexed to match DataFrame index.\n",
      "  after removing the cwd from sys.path.\n"
     ]
    }
   ],
   "source": [
    "#time spent on each subcategory1 subcategory2 and subcategory3 in stream1\n",
    "s2_sb1_df = s2_df[t1_df.Description.str.match('.*SUBCATEGORY1.*')]\n",
    "s2_sb2_df = s2_df[t1_df.Description.str.match('.*SUBCATEGORY2.*')]\n",
    "s2_sb3_df = s2_df[t1_df.Description.str.match('.*SUBCATEGORY3.*')]\n",
    "\n",
    "time_t1_s2_sb1 = s2_sb1_df.duration.sum()\n",
    "time_t1_s2_sb2 = s2_sb2_df.duration.sum()\n",
    "time_t1_s2_sb3 = s2_sb3_df.duration.sum()\n",
    "\n",
    "data_dict[\"time_t1_s2_sb1\"] = [time_t1_s2_sb1.value*(10**-9)/3600]\n",
    "data_dict[\"time_t1_s2_sb2\"] = [time_t1_s2_sb2.value*(10**-9)/3600]\n",
    "data_dict[\"time_t1_s2_sb3\"] = [time_t1_s2_sb3.value*(10**-9)/3600]\n",
    "\n",
    "print(\"Total time spent by TaskType1 stream2 subcategory1 = \",time_t1_s2_sb1)\n",
    "print(\"Total time spent by TaskType1 stream2 subcategory2 = \",time_t1_s2_sb2)\n",
    "print(\"Total time spent by TaskType1 stream2 subcategory3 = \",time_t1_s2_sb3)"
   ]
  },
  {
   "cell_type": "code",
   "execution_count": 319,
   "metadata": {},
   "outputs": [
    {
     "data": {
      "text/html": [
       "<div>\n",
       "<style scoped>\n",
       "    .dataframe tbody tr th:only-of-type {\n",
       "        vertical-align: middle;\n",
       "    }\n",
       "\n",
       "    .dataframe tbody tr th {\n",
       "        vertical-align: top;\n",
       "    }\n",
       "\n",
       "    .dataframe thead th {\n",
       "        text-align: right;\n",
       "    }\n",
       "</style>\n",
       "<table border=\"1\" class=\"dataframe\">\n",
       "  <thead>\n",
       "    <tr style=\"text-align: right;\">\n",
       "      <th></th>\n",
       "      <th>Duration in Hrs</th>\n",
       "    </tr>\n",
       "  </thead>\n",
       "  <tbody>\n",
       "    <tr>\n",
       "      <th>time_t1</th>\n",
       "      <td>60.000000</td>\n",
       "    </tr>\n",
       "    <tr>\n",
       "      <th>time_t1_s1</th>\n",
       "      <td>30.000000</td>\n",
       "    </tr>\n",
       "    <tr>\n",
       "      <th>time_t1_s1_a1</th>\n",
       "      <td>17.000000</td>\n",
       "    </tr>\n",
       "    <tr>\n",
       "      <th>time_t1_s1_a2</th>\n",
       "      <td>13.000000</td>\n",
       "    </tr>\n",
       "    <tr>\n",
       "      <th>time_t1_s1_c1</th>\n",
       "      <td>17.333333</td>\n",
       "    </tr>\n",
       "    <tr>\n",
       "      <th>time_t1_s1_c2</th>\n",
       "      <td>22.333333</td>\n",
       "    </tr>\n",
       "    <tr>\n",
       "      <th>time_t1_s1_sb1</th>\n",
       "      <td>4.666667</td>\n",
       "    </tr>\n",
       "    <tr>\n",
       "      <th>time_t1_s1_sb2</th>\n",
       "      <td>14.666667</td>\n",
       "    </tr>\n",
       "    <tr>\n",
       "      <th>time_t1_s1_sb3</th>\n",
       "      <td>10.666667</td>\n",
       "    </tr>\n",
       "    <tr>\n",
       "      <th>time_t1_s2</th>\n",
       "      <td>30.000000</td>\n",
       "    </tr>\n",
       "    <tr>\n",
       "      <th>time_t1_s2_a1</th>\n",
       "      <td>17.000000</td>\n",
       "    </tr>\n",
       "    <tr>\n",
       "      <th>time_t1_s2_a2</th>\n",
       "      <td>13.000000</td>\n",
       "    </tr>\n",
       "    <tr>\n",
       "      <th>time_t1_s2_c1</th>\n",
       "      <td>17.333333</td>\n",
       "    </tr>\n",
       "    <tr>\n",
       "      <th>time_t1_s2_c2</th>\n",
       "      <td>22.333333</td>\n",
       "    </tr>\n",
       "    <tr>\n",
       "      <th>time_t1_s2_sb1</th>\n",
       "      <td>4.666667</td>\n",
       "    </tr>\n",
       "    <tr>\n",
       "      <th>time_t1_s2_sb2</th>\n",
       "      <td>14.666667</td>\n",
       "    </tr>\n",
       "    <tr>\n",
       "      <th>time_t1_s2_sb3</th>\n",
       "      <td>10.666667</td>\n",
       "    </tr>\n",
       "  </tbody>\n",
       "</table>\n",
       "</div>"
      ],
      "text/plain": [
       "                Duration in Hrs\n",
       "time_t1               60.000000\n",
       "time_t1_s1            30.000000\n",
       "time_t1_s1_a1         17.000000\n",
       "time_t1_s1_a2         13.000000\n",
       "time_t1_s1_c1         17.333333\n",
       "time_t1_s1_c2         22.333333\n",
       "time_t1_s1_sb1         4.666667\n",
       "time_t1_s1_sb2        14.666667\n",
       "time_t1_s1_sb3        10.666667\n",
       "time_t1_s2            30.000000\n",
       "time_t1_s2_a1         17.000000\n",
       "time_t1_s2_a2         13.000000\n",
       "time_t1_s2_c1         17.333333\n",
       "time_t1_s2_c2         22.333333\n",
       "time_t1_s2_sb1         4.666667\n",
       "time_t1_s2_sb2        14.666667\n",
       "time_t1_s2_sb3        10.666667"
      ]
     },
     "execution_count": 319,
     "metadata": {},
     "output_type": "execute_result"
    }
   ],
   "source": [
    "row_labels = [\"Duration in Hrs\"]\n",
    "summary_table = pd.DataFrame(data = data_dict, index = row_labels)\n",
    "summary_table = summary_table.T\n",
    "summary_table"
   ]
  },
  {
   "cell_type": "markdown",
   "metadata": {},
   "source": [
    "time_t1\t       : time taken for TaskType1  \n",
    "\n",
    "time_t1_s1\t   : time taken for TaskType1 STREAM1\n",
    "time_t1_s1_a1  : time taken for TaskType1 STREAM1 Action1\t\n",
    "time_t1_s1_a2  : time taken for TaskType1 STREAM1 Action2\t\n",
    "time_t1_s1_c1  : time taken for TaskType1 STREAM1 Category1\n",
    "time_t1_s1_c2  : time taken for TaskType1 STREAM1 Category1\n",
    "time_t1_s1_sb1 : time taken for TaskType1 STREAM1 SubCategory1\n",
    "time_t1_s1_sb2 : time taken for TaskType1 STREAM1 SubCategory2\n",
    "time_t1_s1_sb3 : time taken for TaskType1 STREAM1 SubCategory3\n",
    "\n",
    "time_t1_s2     : time taken for TaskType1 STREAM2\n",
    "time_t1_s2_a1  : time taken for TaskType1 STREAM2 Action1\n",
    "time_t1_s2_a2  : time taken for TaskType1 STREAM2 Action2\n",
    "time_t1_s2_c1  : time taken for TaskType1 STREAM2 Category1\n",
    "time_t1_s2_c2  : time taken for TaskType1 STREAM2 Category1\n",
    "time_t1_s2_sb1 : time taken for TaskType1 STREAM2 SubCategory1\n",
    "time_t1_s2_sb2 : time taken for TaskType1 STREAM2 SubCategory2\n",
    "time_t1_s2_sb3 : time taken for TaskType1 STREAM2 SubCategory3"
   ]
  },
  {
   "cell_type": "markdown",
   "metadata": {},
   "source": [
    "#### 3) Store the result in a text file/csv."
   ]
  },
  {
   "cell_type": "code",
   "execution_count": 320,
   "metadata": {},
   "outputs": [],
   "source": [
    "summary_table.to_csv(\"duration_summary.csv\")"
   ]
  },
  {
   "cell_type": "markdown",
   "metadata": {},
   "source": [
    "#### 4) Use visualization package to view the result in various stacked column chart and bar chart/pie and store the image in jpeg."
   ]
  },
  {
   "cell_type": "code",
   "execution_count": 331,
   "metadata": {},
   "outputs": [],
   "source": [
    "from PIL import Image\n",
    "import numpy as np\n",
    "import matplotlib.pyplot as plt\n",
    "%matplotlib inline\n",
    "plt.style.use('classic')"
   ]
  },
  {
   "cell_type": "code",
   "execution_count": 333,
   "metadata": {},
   "outputs": [
    {
     "data": {
      "image/png": "[encoded data removed]",
      "text/plain": [
       "<Figure size 640x480 with 1 Axes>"
      ]
     },
     "metadata": {},
     "output_type": "display_data"
    }
   ],
   "source": [
    "# Bar chart\n",
    "fig1 = summary_table.plot.bar()\n",
    "fig1 = fig1.get_figure()\n",
    "fig1.savefig(\"bar_graph.png\")\n",
    "im = Image.open(\"bar_graph.png\")\n",
    "rgb_im = im.convert('RGB')\n",
    "rgb_im.save('bar_graph.jpg')\n"
   ]
  },
  {
   "cell_type": "code",
   "execution_count": 334,
   "metadata": {},
   "outputs": [
    {
     "data": {
      "image/png": "[encoded data removed]",
      "text/plain": [
       "<Figure size 640x480 with 1 Axes>"
      ]
     },
     "metadata": {},
     "output_type": "display_data"
    }
   ],
   "source": [
    "#Pie chart\n",
    "fig2 = summary_table.plot.pie(subplots=True)\n",
    "fig2 = fig2[0].get_figure()\n",
    "fig2.savefig(\"pie_chart_graph.png\")\n",
    "\n",
    "im = Image.open(\"pie_chart_graph.png\")\n",
    "rgb_im = im.convert('RGB')\n",
    "rgb_im.save('pie_chart_graph.jpeg')"
   ]
  },
  {
   "cell_type": "code",
   "execution_count": null,
   "metadata": {},
   "outputs": [],
   "source": []
  }
 ],
 "metadata": {
  "kernelspec": {
   "display_name": "Python 3",
   "language": "python",
   "name": "python3"
  },
  "language_info": {
   "codemirror_mode": {
    "name": "ipython",
    "version": 3
   },
   "file_extension": ".py",
   "mimetype": "text/x-python",
   "name": "python",
   "nbconvert_exporter": "python",
   "pygments_lexer": "ipython3",
   "version": "3.5.5"
  }
 },
 "nbformat": 4,
 "nbformat_minor": 2
}
